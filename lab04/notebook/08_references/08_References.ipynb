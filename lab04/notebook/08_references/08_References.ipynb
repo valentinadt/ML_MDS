{
 "cells": [
  {
   "cell_type": "markdown",
   "metadata": {},
   "source": [
    "* Authors: Andrea Jiménez Zuñiga, Valentina Díaz Torres e Isabel Afán de Ribera Olaso\n",
    "* Date: 15/01/2021\n",
    "* Institution: CUNEF"
   ]
  },
  {
   "cell_type": "markdown",
   "metadata": {},
   "source": [
    "# 08. References"
   ]
  },
  {
   "cell_type": "markdown",
   "metadata": {},
   "source": [
    "* Analytics Vidhya (2018) Comprehensive Guide to build a Recommendation Engine from scratch (in Python) available at https://www.analyticsvidhya.com/blog/2018/06/comprehensive-guide-recommendation-engine-python/\n",
    "\n",
    "* Graph Everywhere. Sistemas de recomendación: Qué son, tipos y ejemplos available at: https://www.grapheverywhere.com/sistemas-de-recomendacion-que-son-tipos-y-ejemplos/#:~:text=Un%20sistema%20de%20recomendaci%C3%B3n%20es,o%20valor%20para%20el%20usuario\n",
    "\n",
    "* GitHub MovieLens (2018) EDA available at: https://github.com/WJMatthew/MovieLens-EDA/blob/master/MovieLensEDA.ipynb\n",
    "\n",
    "* GitHub (2020) Recommendation Systems available at: https://github.com/Riteshchawla10/Recommendation-Systems/blob/master/Recommendation_Assig.ipynb\n",
    "\n",
    "* GitHub (2018) MovieLens available at: https://github.com/khanhnamle1994/movielens\n",
    "\n",
    "* GitHub (2019) Movie Recommendation System Scratch available at: https://github.com/nishitjain/movie-recommendation-system-scratch/blob/master/movie-lens-recommendation-system-from-scratch.ipynb\n",
    "\n",
    "* Kaggle EDA with Movie Lens Dataset available at: https://www.kaggle.com/manmeetkaur07/eda-with-movie-lens-dataset\n",
    "\n",
    "* Medium (2019) Guía para construir un sistema de recomendación available at:  https://medium.com/jaywrkr-tech/gu%C3%ADa-para-construir-un-sistema-de-recomendaci%C3%B3n-parte-1-2b1a65d6eac3\n",
    "\n",
    "* Medium (2020) Recommendation System for Movies — MovieLens | Grouplens available at: https://medium.com/swlh/recommendation-system-for-movies-movielens-grouplens-171d30be334e\n",
    "\n",
    "* Stat Developer (2020) Recomendaciones basado en filtrado colaborativo en Python available at: https://www.statdeveloper.com/recomendaciones-basado-en-filtrado-colaborativo-en-python/\n",
    "\n",
    "* SciPy.org available at: https://docs.scipy.org/doc/scipy/reference/generated/scipy.sparse.linalg.svds.html\n",
    "\n",
    "* Towards Data Science (2019) Introduction to recommender systems available at: https://towardsdatascience.com/introduction-to-recommender-systems-6c66cf15ada\n",
    "\n",
    "* Towards Data Science (2018) Prototyping a Recommender System Step by Step Part 1: KNN Item-Based Collaborative Filtering available at: https://towardsdatascience.com/prototyping-a-recommender-system-step-by-step-part-1-knn-item-based-collaborative-filtering-637969614ea\n",
    "\n",
    "* YouTube (2019) Item-based recommender using Nearest Neighbor available at: https://www.youtube.com/watch?v=dEwl5_QFYNI&t=6s"
   ]
  }
 ],
 "metadata": {
  "kernelspec": {
   "display_name": "movie_env",
   "language": "python",
   "name": "movie_env"
  },
  "language_info": {
   "codemirror_mode": {
    "name": "ipython",
    "version": 3
   },
   "file_extension": ".py",
   "mimetype": "text/x-python",
   "name": "python",
   "nbconvert_exporter": "python",
   "pygments_lexer": "ipython3",
   "version": "3.8.5"
  }
 },
 "nbformat": 4,
 "nbformat_minor": 4
}
