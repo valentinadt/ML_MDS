{
 "cells": [
  {
   "cell_type": "markdown",
   "metadata": {},
   "source": [
    "* Authors: Andrea Jiménez Zuñiga, Valentina Díaz Torres e Isabel Afán de Ribera Olaso\n",
    "* Date: 15/01/2021\n",
    "* Institution: CUNEF"
   ]
  },
  {
   "cell_type": "markdown",
   "metadata": {},
   "source": [
    "# 07. Conclusions"
   ]
  },
  {
   "cell_type": "markdown",
   "metadata": {},
   "source": [
    "As can be seen in this analysis of recommendation systems, these techniques allow a great deal of information to be obtained relating to user behaviour thanks to the data collected from their profiles, generating benefits for both companies and customers. \n",
    "\n",
    "On the one hand, these systems allow companies to increase their sales, the number of subscribers, promote customer loyalty, can be used as a tool for targeting advertisements and as an inspiration to bring new products to market.\n",
    "\n",
    "On the other hand, they can improve the customer experience by saving them a lot of time in searching for a product or experience that they are sure to be satisfied with. Thanks to these algorithms, the client receives suggestions about their tastes and those of similar clients, and quite accurately predicts that the score that users will give to these recommendations will be high.\n",
    "\n",
    "Having implemented various recommendation techniques throughout our project on film recommendation systems, we have drawn a number of conclusions about these algorithms.  \n",
    "\n",
    "Firstly, with regard to the content-based technique, which takes into account some data from the user's history in an attempt to predict what the user is looking for and what similar suggestions he or she may show. We have been able to conclude that although it is a method with good results and that it does not require the scores given to the items and, therefore, avoids the problems that unqualified items can give. It is an over-specialised method as it recommends similar items to those consumed which affects the diversity of recommendations.\n",
    "\n",
    "Secondly, we have observed that the collaborative filtering technique overcomes the disadvantage of the previous technique. Moreover, it allows on the one hand to effectively filter large volumes of data and on the other hand to make recommendations not only based on the particular user but on other similar users by introducing the idea that people often get the best recommendation from someone with similar taste.\n",
    "\n",
    "From the memory-based methods we conclude that it has the advantage of being very easy to interpret but its performance decreases when the data is scattered, something that happens a lot nowadays with web data.\n",
    "\n",
    "From the model-based methods we can say that they deal better with scattered data and this helps with the scalability of large data sets, therefore the prediction performance is improved. However, it is a costly method and can lose useful information due to downsizing."
   ]
  }
 ],
 "metadata": {
  "kernelspec": {
   "display_name": "movie_env",
   "language": "python",
   "name": "movie_env"
  },
  "language_info": {
   "codemirror_mode": {
    "name": "ipython",
    "version": 3
   },
   "file_extension": ".py",
   "mimetype": "text/x-python",
   "name": "python",
   "nbconvert_exporter": "python",
   "pygments_lexer": "ipython3",
   "version": "3.8.5"
  }
 },
 "nbformat": 4,
 "nbformat_minor": 4
}
