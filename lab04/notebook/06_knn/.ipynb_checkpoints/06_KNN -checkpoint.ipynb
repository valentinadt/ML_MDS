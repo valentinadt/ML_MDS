{
 "cells": [
  {
   "cell_type": "markdown",
   "metadata": {},
   "source": [
    "## 0.6 Item-based recommender using Nearest Neighbor method"
   ]
  },
  {
   "cell_type": "markdown",
   "metadata": {},
   "source": [
    "## Import libraries"
   ]
  },
  {
   "cell_type": "code",
   "execution_count": 2,
   "metadata": {},
   "outputs": [],
   "source": [
    "import os\n",
    "import pandas as pd\n",
    "import numpy as np\n",
    "from math import sqrt\n",
    "from sklearn.model_selection import train_test_split # data splitting \n",
    "import warnings\n",
    "warnings.filterwarnings(\"ignore\")\n",
    "from scipy.sparse import csr_matrix\n",
    "from sklearn.neighbors import NearestNeighbors #knn\n",
    "from sklearn.metrics import mean_squared_error #sqrt operations\n",
    "from sklearn.metrics import pairwise_distances\n",
    "import pickle"
   ]
  },
  {
   "cell_type": "markdown",
   "metadata": {},
   "source": [
    "### Load data"
   ]
  },
  {
   "cell_type": "markdown",
   "metadata": {},
   "source": [
    "In this case, we only need movies and ratings datasets. "
   ]
  },
  {
   "cell_type": "code",
   "execution_count": 4,
   "metadata": {},
   "outputs": [],
   "source": [
    "# Load data\n",
    "\n",
    "movies = pd.read_csv('../../data/movies.csv', sep= \",\")\n",
    "ratings = pd.read_csv('../../data/ratings.csv', sep= \",\")"
   ]
  },
  {
   "cell_type": "code",
   "execution_count": 5,
   "metadata": {},
   "outputs": [
    {
     "data": {
      "text/html": [
       "<div>\n",
       "<style scoped>\n",
       "    .dataframe tbody tr th:only-of-type {\n",
       "        vertical-align: middle;\n",
       "    }\n",
       "\n",
       "    .dataframe tbody tr th {\n",
       "        vertical-align: top;\n",
       "    }\n",
       "\n",
       "    .dataframe thead th {\n",
       "        text-align: right;\n",
       "    }\n",
       "</style>\n",
       "<table border=\"1\" class=\"dataframe\">\n",
       "  <thead>\n",
       "    <tr style=\"text-align: right;\">\n",
       "      <th></th>\n",
       "      <th>movieId</th>\n",
       "      <th>title</th>\n",
       "      <th>genres</th>\n",
       "    </tr>\n",
       "  </thead>\n",
       "  <tbody>\n",
       "    <tr>\n",
       "      <th>0</th>\n",
       "      <td>1</td>\n",
       "      <td>Toy Story (1995)</td>\n",
       "      <td>Adventure|Animation|Children|Comedy|Fantasy</td>\n",
       "    </tr>\n",
       "    <tr>\n",
       "      <th>1</th>\n",
       "      <td>2</td>\n",
       "      <td>Jumanji (1995)</td>\n",
       "      <td>Adventure|Children|Fantasy</td>\n",
       "    </tr>\n",
       "    <tr>\n",
       "      <th>2</th>\n",
       "      <td>3</td>\n",
       "      <td>Grumpier Old Men (1995)</td>\n",
       "      <td>Comedy|Romance</td>\n",
       "    </tr>\n",
       "    <tr>\n",
       "      <th>3</th>\n",
       "      <td>4</td>\n",
       "      <td>Waiting to Exhale (1995)</td>\n",
       "      <td>Comedy|Drama|Romance</td>\n",
       "    </tr>\n",
       "    <tr>\n",
       "      <th>4</th>\n",
       "      <td>5</td>\n",
       "      <td>Father of the Bride Part II (1995)</td>\n",
       "      <td>Comedy</td>\n",
       "    </tr>\n",
       "  </tbody>\n",
       "</table>\n",
       "</div>"
      ],
      "text/plain": [
       "   movieId                               title  \\\n",
       "0        1                    Toy Story (1995)   \n",
       "1        2                      Jumanji (1995)   \n",
       "2        3             Grumpier Old Men (1995)   \n",
       "3        4            Waiting to Exhale (1995)   \n",
       "4        5  Father of the Bride Part II (1995)   \n",
       "\n",
       "                                        genres  \n",
       "0  Adventure|Animation|Children|Comedy|Fantasy  \n",
       "1                   Adventure|Children|Fantasy  \n",
       "2                               Comedy|Romance  \n",
       "3                         Comedy|Drama|Romance  \n",
       "4                                       Comedy  "
      ]
     },
     "execution_count": 5,
     "metadata": {},
     "output_type": "execute_result"
    }
   ],
   "source": [
    "movies.head()"
   ]
  },
  {
   "cell_type": "code",
   "execution_count": 6,
   "metadata": {},
   "outputs": [
    {
     "data": {
      "text/html": [
       "<div>\n",
       "<style scoped>\n",
       "    .dataframe tbody tr th:only-of-type {\n",
       "        vertical-align: middle;\n",
       "    }\n",
       "\n",
       "    .dataframe tbody tr th {\n",
       "        vertical-align: top;\n",
       "    }\n",
       "\n",
       "    .dataframe thead th {\n",
       "        text-align: right;\n",
       "    }\n",
       "</style>\n",
       "<table border=\"1\" class=\"dataframe\">\n",
       "  <thead>\n",
       "    <tr style=\"text-align: right;\">\n",
       "      <th></th>\n",
       "      <th>userId</th>\n",
       "      <th>movieId</th>\n",
       "      <th>rating</th>\n",
       "      <th>timestamp</th>\n",
       "    </tr>\n",
       "  </thead>\n",
       "  <tbody>\n",
       "    <tr>\n",
       "      <th>0</th>\n",
       "      <td>1</td>\n",
       "      <td>296</td>\n",
       "      <td>5.0</td>\n",
       "      <td>1147880044</td>\n",
       "    </tr>\n",
       "    <tr>\n",
       "      <th>1</th>\n",
       "      <td>1</td>\n",
       "      <td>306</td>\n",
       "      <td>3.5</td>\n",
       "      <td>1147868817</td>\n",
       "    </tr>\n",
       "    <tr>\n",
       "      <th>2</th>\n",
       "      <td>1</td>\n",
       "      <td>307</td>\n",
       "      <td>5.0</td>\n",
       "      <td>1147868828</td>\n",
       "    </tr>\n",
       "    <tr>\n",
       "      <th>3</th>\n",
       "      <td>1</td>\n",
       "      <td>665</td>\n",
       "      <td>5.0</td>\n",
       "      <td>1147878820</td>\n",
       "    </tr>\n",
       "    <tr>\n",
       "      <th>4</th>\n",
       "      <td>1</td>\n",
       "      <td>899</td>\n",
       "      <td>3.5</td>\n",
       "      <td>1147868510</td>\n",
       "    </tr>\n",
       "  </tbody>\n",
       "</table>\n",
       "</div>"
      ],
      "text/plain": [
       "   userId  movieId  rating   timestamp\n",
       "0       1      296     5.0  1147880044\n",
       "1       1      306     3.5  1147868817\n",
       "2       1      307     5.0  1147868828\n",
       "3       1      665     5.0  1147878820\n",
       "4       1      899     3.5  1147868510"
      ]
     },
     "execution_count": 6,
     "metadata": {},
     "output_type": "execute_result"
    }
   ],
   "source": [
    "ratings.head()"
   ]
  },
  {
   "cell_type": "code",
   "execution_count": 7,
   "metadata": {},
   "outputs": [
    {
     "data": {
      "text/html": [
       "<div>\n",
       "<style scoped>\n",
       "    .dataframe tbody tr th:only-of-type {\n",
       "        vertical-align: middle;\n",
       "    }\n",
       "\n",
       "    .dataframe tbody tr th {\n",
       "        vertical-align: top;\n",
       "    }\n",
       "\n",
       "    .dataframe thead th {\n",
       "        text-align: right;\n",
       "    }\n",
       "</style>\n",
       "<table border=\"1\" class=\"dataframe\">\n",
       "  <thead>\n",
       "    <tr style=\"text-align: right;\">\n",
       "      <th></th>\n",
       "      <th>movieId</th>\n",
       "      <th>title</th>\n",
       "      <th>genres</th>\n",
       "    </tr>\n",
       "  </thead>\n",
       "  <tbody>\n",
       "    <tr>\n",
       "      <th>0</th>\n",
       "      <td>1</td>\n",
       "      <td>Toy Story</td>\n",
       "      <td>Adventure|Animation|Children|Comedy|Fantasy</td>\n",
       "    </tr>\n",
       "    <tr>\n",
       "      <th>1</th>\n",
       "      <td>2</td>\n",
       "      <td>Jumanji</td>\n",
       "      <td>Adventure|Children|Fantasy</td>\n",
       "    </tr>\n",
       "    <tr>\n",
       "      <th>2</th>\n",
       "      <td>3</td>\n",
       "      <td>Grumpier Old Men</td>\n",
       "      <td>Comedy|Romance</td>\n",
       "    </tr>\n",
       "    <tr>\n",
       "      <th>3</th>\n",
       "      <td>4</td>\n",
       "      <td>Waiting to Exhale</td>\n",
       "      <td>Comedy|Drama|Romance</td>\n",
       "    </tr>\n",
       "    <tr>\n",
       "      <th>4</th>\n",
       "      <td>5</td>\n",
       "      <td>Father of the Bride Part II</td>\n",
       "      <td>Comedy</td>\n",
       "    </tr>\n",
       "  </tbody>\n",
       "</table>\n",
       "</div>"
      ],
      "text/plain": [
       "   movieId                         title  \\\n",
       "0        1                    Toy Story    \n",
       "1        2                      Jumanji    \n",
       "2        3             Grumpier Old Men    \n",
       "3        4            Waiting to Exhale    \n",
       "4        5  Father of the Bride Part II    \n",
       "\n",
       "                                        genres  \n",
       "0  Adventure|Animation|Children|Comedy|Fantasy  \n",
       "1                   Adventure|Children|Fantasy  \n",
       "2                               Comedy|Romance  \n",
       "3                         Comedy|Drama|Romance  \n",
       "4                                       Comedy  "
      ]
     },
     "execution_count": 7,
     "metadata": {},
     "output_type": "execute_result"
    }
   ],
   "source": [
    "# delete the year value to the title column because we are going to recommend movies and it looks better if it's just the name of the movie\n",
    "movies['title'] = movies['title'].str.replace(r\"\\(.*\\)\",\"\")\n",
    "movies.head()"
   ]
  },
  {
   "cell_type": "code",
   "execution_count": 8,
   "metadata": {
    "scrolled": true
   },
   "outputs": [],
   "source": [
    "# Merged data by movieId\n",
    "\n",
    "data_movies = pd.merge(ratings, movies, on='movieId').drop(['timestamp','genres'],axis=1)\n",
    "# We use a subsample\n",
    "data_movies = data_movies.head(10000000)\n",
    "# data_movies.head()\n"
   ]
  },
  {
   "cell_type": "markdown",
   "metadata": {},
   "source": [
    "First, we are going to work with raw data in order to find the movies user have not watched yet, using nan values and then we fill these values with 0.\n"
   ]
  },
  {
   "cell_type": "code",
   "execution_count": 9,
   "metadata": {
    "scrolled": true
   },
   "outputs": [],
   "source": [
    "# Missing values in rating\n",
    "# It's necessary to pivot the dataframe to the wide format with movies as rows and users as columns\n",
    "nan_table = data_movies.pivot_table(values = 'rating', index = 'userId', columns = 'title')"
   ]
  },
  {
   "cell_type": "markdown",
   "metadata": {},
   "source": [
    "The nan values represent the movies that have not been rated yet, so we don't know the rating. Those will be used later for recommendation since the user might want to discover them."
   ]
  },
  {
   "cell_type": "code",
   "execution_count": 10,
   "metadata": {},
   "outputs": [],
   "source": [
    "# Identify the movies each user have rated\n",
    "\n",
    "rated_movies = {}  # a dictionary for movies rated by users\n",
    "rows_indexes = {}\n",
    "for i, row in nan_table.iterrows():  # loop that runs through the rows to detect na´s\n",
    "    rows = [x for x in range(0,len(nan_table.columns))] # to get the lenght of the columns\n",
    "    combined = list(zip(row.index, row.values, rows)) # iterator of tuples where the elements of each iterator is paired together\n",
    "                                                     # iterators: row.index, row.values, rows\n",
    "    rated = [(x,z) for x,y,z in combined if str(y) != 'nan'] # choosing movies which values are not nan\n",
    "    # for rated combined x, y and z values when (y) is not a null value\n",
    "    index = [i[1] for i in rated]  # take from column 1 rated movies\n",
    "    row_names = [i[0] for i in rated] # take from column 0 rated movies\n",
    "    rows_indexes[i] = index\n",
    "    rated_movies[i] = row_names"
   ]
  },
  {
   "cell_type": "markdown",
   "metadata": {},
   "source": [
    "#### User-item Matrix"
   ]
  },
  {
   "cell_type": "markdown",
   "metadata": {},
   "source": [
    "Now it's time to find the movies the users have not rated yet, we don't want to recommed movies that the users have already watched.\n",
    "\n",
    "Users might be probably looking for movies that they haven’t watched or just different movies. If the system recomends movies with diverse topics it would allow users to explore and discover different tastes and keeps user engaged with the recommender product. We need to keep in mind that lack of diversity will make users get bored and less engaged with the product and we don't want that."
   ]
  },
  {
   "cell_type": "code",
   "execution_count": 15,
   "metadata": {},
   "outputs": [
    {
     "data": {
      "text/html": [
       "<div>\n",
       "<style scoped>\n",
       "    .dataframe tbody tr th:only-of-type {\n",
       "        vertical-align: middle;\n",
       "    }\n",
       "\n",
       "    .dataframe tbody tr th {\n",
       "        vertical-align: top;\n",
       "    }\n",
       "\n",
       "    .dataframe thead th {\n",
       "        text-align: right;\n",
       "    }\n",
       "</style>\n",
       "<table border=\"1\" class=\"dataframe\">\n",
       "  <thead>\n",
       "    <tr style=\"text-align: right;\">\n",
       "      <th>title</th>\n",
       "      <th>102 Dalmatians</th>\n",
       "      <th>15 Minutes</th>\n",
       "      <th>2 Fast 2 Furious</th>\n",
       "      <th>2001: A Space Odyssey</th>\n",
       "      <th>2012</th>\n",
       "      <th>2046</th>\n",
       "      <th>21 Jump Street</th>\n",
       "      <th>22 Jump Street</th>\n",
       "      <th>25th Hour</th>\n",
       "      <th>27 Dresses</th>\n",
       "      <th>...</th>\n",
       "      <th>X-Men: First Class</th>\n",
       "      <th>X-Men: The Last Stand</th>\n",
       "      <th>X2: X-Men United</th>\n",
       "      <th>You Don't Mess with the Zohan</th>\n",
       "      <th>You Only Live Twice</th>\n",
       "      <th>Young Frankenstein</th>\n",
       "      <th>Zombieland</th>\n",
       "      <th>Zoolander</th>\n",
       "      <th>Zootopia</th>\n",
       "      <th>xXx</th>\n",
       "    </tr>\n",
       "    <tr>\n",
       "      <th>userId</th>\n",
       "      <th></th>\n",
       "      <th></th>\n",
       "      <th></th>\n",
       "      <th></th>\n",
       "      <th></th>\n",
       "      <th></th>\n",
       "      <th></th>\n",
       "      <th></th>\n",
       "      <th></th>\n",
       "      <th></th>\n",
       "      <th></th>\n",
       "      <th></th>\n",
       "      <th></th>\n",
       "      <th></th>\n",
       "      <th></th>\n",
       "      <th></th>\n",
       "      <th></th>\n",
       "      <th></th>\n",
       "      <th></th>\n",
       "      <th></th>\n",
       "      <th></th>\n",
       "    </tr>\n",
       "  </thead>\n",
       "  <tbody>\n",
       "    <tr>\n",
       "      <th>1</th>\n",
       "      <td>0.0</td>\n",
       "      <td>0.0</td>\n",
       "      <td>0.0</td>\n",
       "      <td>0.0</td>\n",
       "      <td>0.0</td>\n",
       "      <td>4.5</td>\n",
       "      <td>0.0</td>\n",
       "      <td>0.0</td>\n",
       "      <td>0.0</td>\n",
       "      <td>0.0</td>\n",
       "      <td>...</td>\n",
       "      <td>0.0</td>\n",
       "      <td>0.0</td>\n",
       "      <td>0.0</td>\n",
       "      <td>0.0</td>\n",
       "      <td>0.0</td>\n",
       "      <td>0.0</td>\n",
       "      <td>0.0</td>\n",
       "      <td>0.0</td>\n",
       "      <td>0.0</td>\n",
       "      <td>0.0</td>\n",
       "    </tr>\n",
       "    <tr>\n",
       "      <th>2</th>\n",
       "      <td>0.0</td>\n",
       "      <td>0.0</td>\n",
       "      <td>0.0</td>\n",
       "      <td>0.0</td>\n",
       "      <td>0.0</td>\n",
       "      <td>0.0</td>\n",
       "      <td>0.0</td>\n",
       "      <td>0.0</td>\n",
       "      <td>0.0</td>\n",
       "      <td>0.0</td>\n",
       "      <td>...</td>\n",
       "      <td>0.0</td>\n",
       "      <td>0.0</td>\n",
       "      <td>5.0</td>\n",
       "      <td>0.0</td>\n",
       "      <td>0.0</td>\n",
       "      <td>0.0</td>\n",
       "      <td>0.0</td>\n",
       "      <td>0.0</td>\n",
       "      <td>0.0</td>\n",
       "      <td>0.0</td>\n",
       "    </tr>\n",
       "    <tr>\n",
       "      <th>3</th>\n",
       "      <td>2.0</td>\n",
       "      <td>3.5</td>\n",
       "      <td>4.0</td>\n",
       "      <td>5.0</td>\n",
       "      <td>2.5</td>\n",
       "      <td>0.0</td>\n",
       "      <td>0.0</td>\n",
       "      <td>3.0</td>\n",
       "      <td>4.5</td>\n",
       "      <td>3.0</td>\n",
       "      <td>...</td>\n",
       "      <td>4.0</td>\n",
       "      <td>4.0</td>\n",
       "      <td>4.0</td>\n",
       "      <td>3.0</td>\n",
       "      <td>0.0</td>\n",
       "      <td>0.0</td>\n",
       "      <td>4.0</td>\n",
       "      <td>3.5</td>\n",
       "      <td>0.0</td>\n",
       "      <td>3.5</td>\n",
       "    </tr>\n",
       "    <tr>\n",
       "      <th>4</th>\n",
       "      <td>0.0</td>\n",
       "      <td>0.0</td>\n",
       "      <td>0.0</td>\n",
       "      <td>4.0</td>\n",
       "      <td>0.0</td>\n",
       "      <td>0.0</td>\n",
       "      <td>4.0</td>\n",
       "      <td>4.0</td>\n",
       "      <td>0.0</td>\n",
       "      <td>0.0</td>\n",
       "      <td>...</td>\n",
       "      <td>0.0</td>\n",
       "      <td>0.0</td>\n",
       "      <td>0.0</td>\n",
       "      <td>0.0</td>\n",
       "      <td>3.5</td>\n",
       "      <td>4.0</td>\n",
       "      <td>0.0</td>\n",
       "      <td>4.0</td>\n",
       "      <td>4.5</td>\n",
       "      <td>0.0</td>\n",
       "    </tr>\n",
       "    <tr>\n",
       "      <th>5</th>\n",
       "      <td>0.0</td>\n",
       "      <td>0.0</td>\n",
       "      <td>0.0</td>\n",
       "      <td>0.0</td>\n",
       "      <td>0.0</td>\n",
       "      <td>0.0</td>\n",
       "      <td>0.0</td>\n",
       "      <td>0.0</td>\n",
       "      <td>0.0</td>\n",
       "      <td>0.0</td>\n",
       "      <td>...</td>\n",
       "      <td>0.0</td>\n",
       "      <td>0.0</td>\n",
       "      <td>0.0</td>\n",
       "      <td>0.0</td>\n",
       "      <td>0.0</td>\n",
       "      <td>0.0</td>\n",
       "      <td>0.0</td>\n",
       "      <td>0.0</td>\n",
       "      <td>0.0</td>\n",
       "      <td>0.0</td>\n",
       "    </tr>\n",
       "  </tbody>\n",
       "</table>\n",
       "<p>5 rows × 946 columns</p>\n",
       "</div>"
      ],
      "text/plain": [
       "title   102 Dalmatians   15 Minutes   2 Fast 2 Furious   \\\n",
       "userId                                                    \n",
       "1                   0.0          0.0                0.0   \n",
       "2                   0.0          0.0                0.0   \n",
       "3                   2.0          3.5                4.0   \n",
       "4                   0.0          0.0                0.0   \n",
       "5                   0.0          0.0                0.0   \n",
       "\n",
       "title   2001: A Space Odyssey   2012   2046   21 Jump Street   \\\n",
       "userId                                                          \n",
       "1                          0.0    0.0    4.5              0.0   \n",
       "2                          0.0    0.0    0.0              0.0   \n",
       "3                          5.0    2.5    0.0              0.0   \n",
       "4                          4.0    0.0    0.0              4.0   \n",
       "5                          0.0    0.0    0.0              0.0   \n",
       "\n",
       "title   22 Jump Street   25th Hour   27 Dresses   ...  X-Men: First Class   \\\n",
       "userId                                            ...                        \n",
       "1                   0.0         0.0          0.0  ...                  0.0   \n",
       "2                   0.0         0.0          0.0  ...                  0.0   \n",
       "3                   3.0         4.5          3.0  ...                  4.0   \n",
       "4                   4.0         0.0          0.0  ...                  0.0   \n",
       "5                   0.0         0.0          0.0  ...                  0.0   \n",
       "\n",
       "title   X-Men: The Last Stand   X2: X-Men United   \\\n",
       "userId                                              \n",
       "1                          0.0                0.0   \n",
       "2                          0.0                5.0   \n",
       "3                          4.0                4.0   \n",
       "4                          0.0                0.0   \n",
       "5                          0.0                0.0   \n",
       "\n",
       "title   You Don't Mess with the Zohan   You Only Live Twice   \\\n",
       "userId                                                         \n",
       "1                                  0.0                   0.0   \n",
       "2                                  0.0                   0.0   \n",
       "3                                  3.0                   0.0   \n",
       "4                                  0.0                   3.5   \n",
       "5                                  0.0                   0.0   \n",
       "\n",
       "title   Young Frankenstein   Zombieland   Zoolander   Zootopia   xXx   \n",
       "userId                                                                 \n",
       "1                       0.0          0.0         0.0        0.0   0.0  \n",
       "2                       0.0          0.0         0.0        0.0   0.0  \n",
       "3                       0.0          4.0         3.5        0.0   3.5  \n",
       "4                       4.0          0.0         4.0        4.5   0.0  \n",
       "5                       0.0          0.0         0.0        0.0   0.0  \n",
       "\n",
       "[5 rows x 946 columns]"
      ]
     },
     "execution_count": 15,
     "metadata": {},
     "output_type": "execute_result"
    }
   ],
   "source": [
    "# Creating a new pivot table, but this time we fill nan values with 0 to be able to measure the vectors and evaluate he similarity between items\n",
    "# From now on we are going to work with this dataset since we have already trated the nan values and\n",
    "# We want to recommed movies not watched yet to the users\n",
    "\n",
    "noNan_table = data_movies.pivot_table(values = 'rating', index = 'userId', columns = 'title').fillna(0)\n",
    "noNan_table.head()"
   ]
  },
  {
   "cell_type": "code",
   "execution_count": 17,
   "metadata": {},
   "outputs": [],
   "source": [
    "noNan_table = noNan_table.apply(np.sign)"
   ]
  },
  {
   "cell_type": "code",
   "execution_count": 18,
   "metadata": {},
   "outputs": [],
   "source": [
    "# Identify the movies that users have not rated yet\n",
    "\n",
    "not_rated_movies = {} # we are creating a dictionary again but this time for the films that have not been rated\n",
    "not_rated_indexes= {} # to get the movies that users have not rated\n",
    "for i, row in noNan_table.iterrows(): # loop that runs through the rows of pivot_table to detect no rated movies\n",
    "    rows = [x for x in range(0,len(nan_table.columns))] # to get the lenght of the columns \n",
    "    combined = list(zip(row.index, row.values, row))  # iterator of tuples where the elements of each iterator is paired together\n",
    "    idx_row = [(idx,col) for idx, val, col in combined if not val > 0] # combine idx, val, col when value is not > 0 that means the movie has not been rated\n",
    "    idx_2 = [i[1] for i in idx_row]  # take from column 1 rated movies\n",
    "    row_names = [i[0] for i in idx_row] # take from column 1 rated movies\n",
    "    not_rated_indexes[i] = idx_2\n",
    "    not_rated_movies[i] = row_names\n",
    "    "
   ]
  },
  {
   "cell_type": "code",
   "execution_count": 50,
   "metadata": {
    "scrolled": false
   },
   "outputs": [
    {
     "name": "stdout",
     "output_type": "stream",
     "text": [
      "['102 Dalmatians ', '15 Minutes ', '2 Fast 2 Furious ', '2001: A Space Odyssey ', '2012 ', '21 Jump Street ', '22 Jump Street ', '25th Hour ', '27 Dresses ', '28 Days ']\n"
     ]
    }
   ],
   "source": [
    "# dictionary with userId as key and not rated movie title as value\n",
    "# Here we can see the first 10 movies for the first user\n",
    "\n",
    "print(not_rated_movies[1][0:10])"
   ]
  },
  {
   "cell_type": "markdown",
   "metadata": {},
   "source": [
    "###  Nearest Neighbor Recommender Model (KNN)\n"
   ]
  },
  {
   "cell_type": "markdown",
   "metadata": {},
   "source": [
    "Now we are ready to build an unsupervised KNN model. KNN separates the dataset into different clusters. It calculates the distance between the target movie and other movies in the dataset. Then it ranks its distances and returns the nearest neighbor movies (k) as the most similar movie recommendations."
   ]
  },
  {
   "cell_type": "code",
   "execution_count": 57,
   "metadata": {},
   "outputs": [
    {
     "data": {
      "image/png": "[encoded data removed]",
      "text/plain": [
       "<IPython.core.display.Image object>"
      ]
     },
     "execution_count": 57,
     "metadata": {
      "image/png": {
       "width": "800"
      }
     },
     "output_type": "execute_result"
    }
   ],
   "source": [
    "from IPython.display import Image\n",
    "Image(filename='knn.png', width = '800')"
   ]
  },
  {
   "cell_type": "code",
   "execution_count": 40,
   "metadata": {},
   "outputs": [],
   "source": [
    "n = 5 #the number of neighbors\n",
    "knn = NearestNeighbors(n_neighbors = n,algorithm = 'brute', metric = 'cosine')  # brute is the lgorithm used to compute the nearest neighbors\n",
    "#we use the cosine similarity for nearest neighbor search\n",
    "knn_fit = knn.fit(noNan_table.T.values)  # fit the nearest neighbors estimator from the training dataset\n",
    "i_distances, i_indices = knn_fit.kneighbors(noNan_table.T.values) # with T function we transpose the table\n"
   ]
  },
  {
   "cell_type": "markdown",
   "metadata": {},
   "source": [
    "#### Item-based collaborative filtering"
   ]
  },
  {
   "cell_type": "markdown",
   "metadata": {},
   "source": [
    "\n",
    "Item-based recommender filtering is the best way of doing that. It measures the similarities between items by using the user's ratings os those items.\n"
   ]
  },
  {
   "cell_type": "code",
   "execution_count": 45,
   "metadata": {},
   "outputs": [],
   "source": [
    "# here we have a dictionary where the key is the rated movie and the values are the movies associated \n",
    "i_dic = {} # dictionary for recomendation based on similar movies\n",
    "for i in range(len(noNan_table.T.index)): # loop to inspect the index of the transpose pivot table\n",
    "    item_idx = i_indices[i]\n",
    "    col_names = noNan_table.T.index[item_idx].tolist() # to get the actual index name and turned it to a list\n",
    "    i_dic[noNan_table.T.index[i]] = col_names"
   ]
  },
  {
   "cell_type": "code",
   "execution_count": 58,
   "metadata": {},
   "outputs": [],
   "source": [
    "top_Recm = {}\n",
    "for k,v in rows_indexes.items(): \n",
    "    item_idx = [j for i in i_indices[v] for j in i]  # for each movie and item indexes find all the indexes that are most similar to the rated movies\n",
    "    item_dist = [j for i in i_distances[v] for j in i] # and the same for the distances\n",
    "    zip_1 = list(zip(item_dist, item_idx))\n",
    "    combine_idx = {i:d for d, i in zip_1 if i not in v} # combine when index is not in v because we want not watched movies \n",
    "    zip_3 = list(zip(combine_idx.keys(),combine_idx.values()))\n",
    "    sort = sorted(zip_3, key = lambda x: x[1]) # order from the most similar to the least similar \n",
    "    recommendation = [(noNan_table.columns[i],d) for i, d in sort] # get columns names from the original pivot table\n",
    "    top_Recm[k]= recommendation\n",
    "\n",
    "#k = users "
   ]
  },
  {
   "cell_type": "code",
   "execution_count": 59,
   "metadata": {},
   "outputs": [],
   "source": [
    "# function to get recommendations for a particular user\n",
    "\n",
    "def getrecommendations(user, number_of_recs = 30):\n",
    "    if user > len(noNan_table.index):   # in case you choose a user number that is not in the table\n",
    "        print('Out of range, there are only {} users, try again!'.format(len(noNan_table.index)))\n",
    "    else:\n",
    "         # we choose a user number from the list then I get back the movies that the user has seen\n",
    "        print(\"These are all the movies you have viewed in the past: \\n\\n{}\".format('\\n'.join(rated_movies[user])))\n",
    "        print()\n",
    "        # and returns some similar movies that the user has not seen including the similarity\n",
    "        print(\"We recommed to view these movies too:\\n\")\n",
    "    for k,v in top_Recm.items():\n",
    "        if user == k:\n",
    "            for i in v[:number_of_recs]:\n",
    "                print('{} with similarity: {:.4f}'.format(i[0], 1 - i[1]))"
   ]
  },
  {
   "cell_type": "code",
   "execution_count": 60,
   "metadata": {
    "scrolled": false
   },
   "outputs": [
    {
     "name": "stdout",
     "output_type": "stream",
     "text": [
      "These are all the movies you have viewed in the past: \n",
      "\n",
      "2 Fast 2 Furious \n",
      "2001: A Space Odyssey \n",
      "28 Days Later \n",
      "6th Day, The \n",
      "8 Mile \n",
      "AVP: Alien vs. Predator \n",
      "Aladdin \n",
      "Apollo 13 \n",
      "Braveheart \n",
      "Cell, The \n",
      "Forrest Gump \n",
      "Fugitive, The \n",
      "Independence Day \n",
      "Jurassic Park \n",
      "Last Emperor, The \n",
      "Pulp Fiction \n",
      "Shawshank Redemption, The \n",
      "Silence of the Lambs, The \n",
      "Star Wars: Episode IV - A New Hope \n",
      "Star Wars: Episode V - The Empire Strikes Back \n",
      "Star Wars: Episode VI - Return of the Jedi \n",
      "Terminator 2: Judgment Day \n",
      "Toy Story \n",
      "True Lies \n",
      "Twelve Monkeys \n",
      "Usual Suspects, The \n",
      "\n",
      "We recommed to view these movies too:\n",
      "\n",
      "Lion King, The  with similarity: 0.6927\n",
      "Terminator, The  with similarity: 0.6729\n",
      "Matrix, The  with similarity: 0.6703\n",
      "Raiders of the Lost Ark  with similarity: 0.6561\n",
      "Batman Forever  with similarity: 0.6485\n",
      "Indiana Jones and the Last Crusade  with similarity: 0.6439\n",
      "Schindler's List  with similarity: 0.6432\n",
      "Clear and Present Danger  with similarity: 0.6404\n",
      "Seven  with similarity: 0.6168\n",
      "Rock, The  with similarity: 0.6113\n",
      "Blade Runner  with similarity: 0.5897\n",
      "Men in Black  with similarity: 0.5828\n",
      "Clockwork Orange, A  with similarity: 0.5808\n",
      "Alien  with similarity: 0.5747\n",
      "Back to the Future  with similarity: 0.5668\n",
      "Apocalypse Now  with similarity: 0.5399\n",
      "Shaun of the Dead  with similarity: 0.5018\n",
      "Kill Bill: Vol. 1  with similarity: 0.4698\n",
      "Sin City  with similarity: 0.4641\n",
      "Kill Bill: Vol. 2  with similarity: 0.4577\n",
      "Fast and the Furious: Tokyo Drift, The  with similarity: 0.4388\n",
      "Chronicles of Riddick, The  with similarity: 0.4065\n",
      "Resident Evil: Apocalypse  with similarity: 0.4033\n",
      "Resident Evil  with similarity: 0.3961\n",
      "Van Helsing  with similarity: 0.3960\n",
      "Fast & Furious  with similarity: 0.3863\n",
      "Bad Boys II  with similarity: 0.3753\n",
      "Unbreakable  with similarity: 0.3740\n",
      "Fast and the Furious, The  with similarity: 0.3647\n",
      "American Pie 2  with similarity: 0.3646\n"
     ]
    }
   ],
   "source": [
    "# Recommendations for 500 users\n",
    "\n",
    "getrecommendations(10)"
   ]
  },
  {
   "cell_type": "markdown",
   "metadata": {},
   "source": [
    "### Evaluation"
   ]
  },
  {
   "cell_type": "markdown",
   "metadata": {},
   "source": [
    "#### Rating predictions for the movies users had not watched before"
   ]
  },
  {
   "cell_type": "code",
   "execution_count": 61,
   "metadata": {},
   "outputs": [],
   "source": [
    "i_distances = 1 - i_distances\n"
   ]
  },
  {
   "cell_type": "code",
   "execution_count": 62,
   "metadata": {},
   "outputs": [],
   "source": [
    "recommender_predictions = i_distances.T.dot(noNan_table.T.values)/np.array([np.abs(i_distances.T).sum(axis = 1)]).T"
   ]
  },
  {
   "cell_type": "code",
   "execution_count": 63,
   "metadata": {},
   "outputs": [],
   "source": [
    "argsort_fun = noNan_table.T.values[i_distances.argsort()[0]]"
   ]
  },
  {
   "cell_type": "markdown",
   "metadata": {},
   "source": [
    "#### Evaluating the recommendation model"
   ]
  },
  {
   "cell_type": "markdown",
   "metadata": {},
   "source": [
    "For the evaluation, we use Root Mean Square Error(rmse) in order to make good predictions by using the sklearn.metrics package."
   ]
  },
  {
   "cell_type": "code",
   "execution_count": 64,
   "metadata": {},
   "outputs": [],
   "source": [
    "# function for RMSE that measure how well this recommendation system is\n",
    "\n",
    "def rmse(prediction, argsort_fun):\n",
    "    prediction = prediction[argsort_fun.nonzero()].flatten()\n",
    "    argsort_fun = argsort_fun[argsort_fun.nonzero()].flatten()\n",
    "    return sqrt (mean_squared_error(prediction,argsort_fun)) #squrt=squared root"
   ]
  },
  {
   "cell_type": "code",
   "execution_count": 65,
   "metadata": {},
   "outputs": [
    {
     "name": "stdout",
     "output_type": "stream",
     "text": [
      "Acuraccy: 99.180\n",
      "RMSE: 0.81978\n"
     ]
    }
   ],
   "source": [
    "error_result = rmse(recommender_predictions, argsort_fun)\n",
    "print(\"Acuraccy: {:.3f}\".format(100 - error_result))\n",
    "print(\"RMSE: {:.5f}\".format(error_result))"
   ]
  },
  {
   "cell_type": "markdown",
   "metadata": {},
   "source": [
    "## Conclusion"
   ]
  },
  {
   "cell_type": "markdown",
   "metadata": {},
   "source": [
    "One of the main shortcomings in item based collaborative filtering is that it's that this system is most likely to recommed the most popular movies instead of the unknown ones. We found the same issue if we look at the new movies, those have less interactios and for this reason they might be less likely to be recommended.\n",
    "\n",
    "However, the accuraccy of the model is 99%, so it's pretty high and we could conclude that this system really works in real life."
   ]
  },
  {
   "cell_type": "code",
   "execution_count": 66,
   "metadata": {},
   "outputs": [],
   "source": [
    "model = knn\n",
    "filename = 'modelo_knn.pkl'\n",
    "pickle.dump(model,open(filename,'wb'))"
   ]
  }
 ],
 "metadata": {
  "kernelspec": {
   "display_name": "Python 3",
   "language": "python",
   "name": "python3"
  },
  "language_info": {
   "codemirror_mode": {
    "name": "ipython",
    "version": 3
   },
   "file_extension": ".py",
   "mimetype": "text/x-python",
   "name": "python",
   "nbconvert_exporter": "python",
   "pygments_lexer": "ipython3",
   "version": "3.8.5"
  }
 },
 "nbformat": 4,
 "nbformat_minor": 4
}
