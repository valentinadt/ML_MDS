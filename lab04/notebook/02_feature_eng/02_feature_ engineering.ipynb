{
 "cells": [
  {
   "cell_type": "markdown",
   "metadata": {},
   "source": [
    "* Authors: Andrea Jiménez Zuñiga, Valentina Díaz Torres e Isabel Afán de Ribera Olaso\n",
    "* Date: 15/01/2021\n",
    "* Institution: CUNEF"
   ]
  },
  {
   "cell_type": "markdown",
   "metadata": {},
   "source": [
    "# 02. Feature Engineering Movie Recommendation System\n"
   ]
  },
  {
   "cell_type": "markdown",
   "metadata": {},
   "source": [
    "#### Import Libraries"
   ]
  },
  {
   "cell_type": "code",
   "execution_count": 1,
   "metadata": {},
   "outputs": [],
   "source": [
    "import pandas as pd \n",
    "import numpy as np \n",
    "import matplotlib.pyplot as plt \n",
    "%matplotlib inline\n",
    "import seaborn as sns\n",
    "import warnings\n",
    "warnings.filterwarnings(\"ignore\")\n",
    "import re # expresiones regulares, para eliminar el paréntesis en la columna titulo\n",
    "pd.options.display.max_columns = None #para poder visualizar todas las columnas sin puntos suspensivos\n",
    "pd.options.display.max_rows = None #para poder visualizar todas las filas sin puntos suspensivos\n",
    "import wordcloud\n",
    "from wordcloud import WordCloud, STOPWORDS\n",
    "import sys #connecting the notebooks"
   ]
  },
  {
   "cell_type": "markdown",
   "metadata": {},
   "source": [
    "#### Import Data"
   ]
  },
  {
   "cell_type": "markdown",
   "metadata": {},
   "source": [
    "At first we imported the entire data set provided by MovieLens which includes 25.000.095 ratings and 1.093.360 tag applications across 62.423 movies. Later on, we will work only with the most relevant ones for the analysis."
   ]
  },
  {
   "cell_type": "code",
   "execution_count": 5,
   "metadata": {},
   "outputs": [],
   "source": [
    "data_path = '../../data/data_movies.csv'"
   ]
  },
  {
   "cell_type": "code",
   "execution_count": 13,
   "metadata": {},
   "outputs": [],
   "source": [
    "data_movies = pd.read_csv(data_path)\n",
    "data_movies.head()\n",
    "# Again we have a subsample ir order to be able to work with the dataset\n",
    "data_movies2 = data_movies.head(10000000)"
   ]
  },
  {
   "cell_type": "markdown",
   "metadata": {},
   "source": [
    "* #### __Number of Movies per Year :__"
   ]
  },
  {
   "cell_type": "markdown",
   "metadata": {},
   "source": [
    "It is possible to visualize the number of movies per year. In the graph below we have represented the number of movies per year, in order to be able to determine the year in which there were more movies created."
   ]
  },
  {
   "cell_type": "code",
   "execution_count": 7,
   "metadata": {
    "scrolled": true
   },
   "outputs": [
    {
     "data": {
      "text/plain": [
       "array([1.995e+03, 1.994e+03, 1.996e+03, 1.976e+03, 1.992e+03, 1.988e+03,\n",
       "       1.967e+03, 1.993e+03, 1.964e+03, 1.977e+03, 1.965e+03, 1.982e+03,\n",
       "       1.990e+03, 1.991e+03, 1.989e+03, 1.937e+03, 1.940e+03, 1.969e+03,\n",
       "       1.981e+03, 1.973e+03, 1.970e+03, 3.010e+02, 1.960e+03, 1.955e+03,\n",
       "       1.959e+03, 1.968e+03, 1.980e+03, 1.975e+03, 1.986e+03, 1.948e+03,\n",
       "       1.943e+03, 1.950e+03, 1.946e+03, 1.987e+03, 1.997e+03, 1.974e+03,\n",
       "       1.956e+03, 1.958e+03, 1.949e+03, 1.972e+03, 1.998e+03, 6.000e+00,\n",
       "       1.933e+03, 1.952e+03, 1.951e+03, 1.957e+03, 1.961e+03, 1.954e+03,\n",
       "       1.934e+03, 1.944e+03, 1.963e+03, 1.942e+03, 1.941e+03, 1.953e+03,\n",
       "       1.939e+03, 1.947e+03, 1.945e+03, 1.938e+03, 1.935e+03, 1.936e+03,\n",
       "       1.926e+03, 1.932e+03, 1.985e+03, 1.979e+03, 1.971e+03, 2.000e+00,\n",
       "       1.978e+03, 1.966e+03, 1.962e+03, 1.983e+03, 1.984e+03, 8.000e+00,\n",
       "       1.931e+03, 1.922e+03, 1.999e+03, 1.927e+03, 1.929e+03, 1.930e+03,\n",
       "       1.928e+03, 1.925e+03, 1.914e+03, 2.000e+03, 3.000e+00, 1.919e+03,\n",
       "       1.923e+03, 1.920e+03, 1.918e+03, 1.921e+03, 1.000e+00, 2.001e+03,\n",
       "       1.732e+03, 1.924e+03, 2.002e+03, 2.003e+03, 1.010e+02, 3.700e+01,\n",
       "       1.915e+03, 2.004e+03, 1.916e+03, 1.917e+03,       nan, 7.100e+01,\n",
       "       2.005e+03, 2.006e+03, 8.000e+02, 1.902e+03, 3.000e+02, 2.300e+01,\n",
       "       1.903e+03, 2.007e+03, 2.008e+03, 4.000e+00, 4.600e+01, 1.000e+01,\n",
       "       2.009e+03, 1.300e+01, 3.300e+01, 5.000e+00, 1.912e+03, 3.500e+01,\n",
       "       2.010e+03, 1.913e+03, 2.011e+03, 1.898e+03, 1.899e+03, 7.000e+00,\n",
       "       1.894e+03, 2.012e+03, 1.100e+01, 1.910e+03, 2.013e+03, 1.896e+03,\n",
       "       6.900e+01, 1.800e+02, 9.000e+01, 1.000e+03, 2.014e+03, 2.000e+01,\n",
       "       1.000e+02, 2.015e+03, 1.895e+03, 1.909e+03, 1.911e+03, 1.900e+03,\n",
       "       2.016e+03, 2.017e+03, 2.018e+03, 2.019e+03, 1.905e+03, 1.904e+03,\n",
       "       1.891e+03, 1.892e+03, 1.908e+03, 1.897e+03, 1.887e+03, 1.888e+03,\n",
       "       1.890e+03, 1.878e+03, 1.874e+03, 1.901e+03, 1.906e+03, 1.883e+03,\n",
       "       1.907e+03, 1.880e+03])"
      ]
     },
     "execution_count": 7,
     "metadata": {},
     "output_type": "execute_result"
    }
   ],
   "source": [
    "data_movies.year.unique()\n"
   ]
  },
  {
   "cell_type": "code",
   "execution_count": 14,
   "metadata": {},
   "outputs": [
    {
     "data": {
      "text/plain": [
       "(1976.0, 1996.0)"
      ]
     },
     "execution_count": 14,
     "metadata": {},
     "output_type": "execute_result"
    },
    {
     "data": {
      "image/png": "[encoded data removed]",
      "text/plain": [
       "<Figure size 1296x360 with 1 Axes>"
      ]
     },
     "metadata": {
      "needs_background": "light"
     },
     "output_type": "display_data"
    }
   ],
   "source": [
    "movies = data_movies\n",
    "movies.title = movies.title.str[:-7]\n",
    "\n",
    "plt.figure(figsize=(18,5))\n",
    "plt.plot(movies.groupby(['year']).count()['title'])\n",
    "plt.title('Number of movies per Year',fontsize=16)\n",
    "plt.grid(False)\n",
    "plt.xlim(1976, 1996)\n"
   ]
  },
  {
   "cell_type": "markdown",
   "metadata": {},
   "source": [
    "It is noticed that the year of most movies made is 1995.   "
   ]
  },
  {
   "cell_type": "markdown",
   "metadata": {},
   "source": [
    "### Data Cleaning"
   ]
  },
  {
   "cell_type": "markdown",
   "metadata": {},
   "source": [
    "In order to see if we can dispense with some columns, we are going to analyse the null values of the 7 columns of our dataset."
   ]
  },
  {
   "cell_type": "code",
   "execution_count": 15,
   "metadata": {},
   "outputs": [
    {
     "data": {
      "text/plain": [
       "movieId      0.00\n",
       "title        0.05\n",
       "genres       0.00\n",
       "userId       0.00\n",
       "rating       0.00\n",
       "timestamp    0.00\n",
       "year         0.05\n",
       "dtype: float64"
      ]
     },
     "execution_count": 15,
     "metadata": {},
     "output_type": "execute_result"
    }
   ],
   "source": [
    "# Percentage of missing values in each column\n",
    "\n",
    "round((data_movies.isnull().sum()/len(data_movies)*100),2) #no null values in our dataset"
   ]
  },
  {
   "cell_type": "markdown",
   "metadata": {},
   "source": [
    "There are no missing values."
   ]
  },
  {
   "cell_type": "markdown",
   "metadata": {},
   "source": [
    "* __Encoding the genres :__"
   ]
  },
  {
   "cell_type": "markdown",
   "metadata": {},
   "source": [
    "It is possible to encode the genres of the movies by onehot encoding, and show them as columns of our dataset. By doing this, we are getting distinct genre types for generating columns of genre type and then iterating over every list to create and fill values into columns. The values of each column are going to be 0 or 1, being 0 if that specific movie is not classified with that genre and 1 if that movie has that genre. "
   ]
  },
  {
   "cell_type": "code",
   "execution_count": 16,
   "metadata": {},
   "outputs": [
    {
     "data": {
      "text/html": [
       "<div>\n",
       "<style scoped>\n",
       "    .dataframe tbody tr th:only-of-type {\n",
       "        vertical-align: middle;\n",
       "    }\n",
       "\n",
       "    .dataframe tbody tr th {\n",
       "        vertical-align: top;\n",
       "    }\n",
       "\n",
       "    .dataframe thead th {\n",
       "        text-align: right;\n",
       "    }\n",
       "</style>\n",
       "<table border=\"1\" class=\"dataframe\">\n",
       "  <thead>\n",
       "    <tr style=\"text-align: right;\">\n",
       "      <th></th>\n",
       "      <th>movieId</th>\n",
       "      <th>title</th>\n",
       "      <th>genres</th>\n",
       "      <th>userId</th>\n",
       "      <th>rating</th>\n",
       "      <th>timestamp</th>\n",
       "      <th>year</th>\n",
       "    </tr>\n",
       "  </thead>\n",
       "  <tbody>\n",
       "    <tr>\n",
       "      <th>0</th>\n",
       "      <td>1</td>\n",
       "      <td>Toy</td>\n",
       "      <td>Adventure|Animation|Children|Comedy|Fantasy</td>\n",
       "      <td>2</td>\n",
       "      <td>3.5</td>\n",
       "      <td>1141415820</td>\n",
       "      <td>1995.0</td>\n",
       "    </tr>\n",
       "    <tr>\n",
       "      <th>1</th>\n",
       "      <td>1</td>\n",
       "      <td>Toy</td>\n",
       "      <td>Adventure|Animation|Children|Comedy|Fantasy</td>\n",
       "      <td>3</td>\n",
       "      <td>4.0</td>\n",
       "      <td>1439472215</td>\n",
       "      <td>1995.0</td>\n",
       "    </tr>\n",
       "    <tr>\n",
       "      <th>2</th>\n",
       "      <td>1</td>\n",
       "      <td>Toy</td>\n",
       "      <td>Adventure|Animation|Children|Comedy|Fantasy</td>\n",
       "      <td>4</td>\n",
       "      <td>3.0</td>\n",
       "      <td>1573944252</td>\n",
       "      <td>1995.0</td>\n",
       "    </tr>\n",
       "    <tr>\n",
       "      <th>3</th>\n",
       "      <td>1</td>\n",
       "      <td>Toy</td>\n",
       "      <td>Adventure|Animation|Children|Comedy|Fantasy</td>\n",
       "      <td>5</td>\n",
       "      <td>4.0</td>\n",
       "      <td>858625949</td>\n",
       "      <td>1995.0</td>\n",
       "    </tr>\n",
       "    <tr>\n",
       "      <th>4</th>\n",
       "      <td>1</td>\n",
       "      <td>Toy</td>\n",
       "      <td>Adventure|Animation|Children|Comedy|Fantasy</td>\n",
       "      <td>8</td>\n",
       "      <td>4.0</td>\n",
       "      <td>890492517</td>\n",
       "      <td>1995.0</td>\n",
       "    </tr>\n",
       "  </tbody>\n",
       "</table>\n",
       "</div>"
      ],
      "text/plain": [
       "   movieId title                                       genres  userId  rating  \\\n",
       "0        1   Toy  Adventure|Animation|Children|Comedy|Fantasy       2     3.5   \n",
       "1        1   Toy  Adventure|Animation|Children|Comedy|Fantasy       3     4.0   \n",
       "2        1   Toy  Adventure|Animation|Children|Comedy|Fantasy       4     3.0   \n",
       "3        1   Toy  Adventure|Animation|Children|Comedy|Fantasy       5     4.0   \n",
       "4        1   Toy  Adventure|Animation|Children|Comedy|Fantasy       8     4.0   \n",
       "\n",
       "    timestamp    year  \n",
       "0  1141415820  1995.0  \n",
       "1  1439472215  1995.0  \n",
       "2  1573944252  1995.0  \n",
       "3   858625949  1995.0  \n",
       "4   890492517  1995.0  "
      ]
     },
     "execution_count": 16,
     "metadata": {},
     "output_type": "execute_result"
    }
   ],
   "source": [
    "data_movies.head()"
   ]
  },
  {
   "cell_type": "code",
   "execution_count": 17,
   "metadata": {},
   "outputs": [],
   "source": [
    "onehot_genres = pd.concat([data_movies2.drop('genres', axis=1), data_movies2.genres.str.get_dummies(sep='|')], axis=1)  \n"
   ]
  },
  {
   "cell_type": "code",
   "execution_count": 18,
   "metadata": {},
   "outputs": [
    {
     "data": {
      "text/html": [
       "<div>\n",
       "<style scoped>\n",
       "    .dataframe tbody tr th:only-of-type {\n",
       "        vertical-align: middle;\n",
       "    }\n",
       "\n",
       "    .dataframe tbody tr th {\n",
       "        vertical-align: top;\n",
       "    }\n",
       "\n",
       "    .dataframe thead th {\n",
       "        text-align: right;\n",
       "    }\n",
       "</style>\n",
       "<table border=\"1\" class=\"dataframe\">\n",
       "  <thead>\n",
       "    <tr style=\"text-align: right;\">\n",
       "      <th></th>\n",
       "      <th>movieId</th>\n",
       "      <th>title</th>\n",
       "      <th>userId</th>\n",
       "      <th>rating</th>\n",
       "      <th>timestamp</th>\n",
       "      <th>year</th>\n",
       "      <th>Action</th>\n",
       "      <th>Adventure</th>\n",
       "      <th>Animation</th>\n",
       "      <th>Children</th>\n",
       "      <th>Comedy</th>\n",
       "      <th>Crime</th>\n",
       "      <th>Documentary</th>\n",
       "      <th>Drama</th>\n",
       "      <th>Fantasy</th>\n",
       "      <th>Film-Noir</th>\n",
       "      <th>Horror</th>\n",
       "      <th>IMAX</th>\n",
       "      <th>Musical</th>\n",
       "      <th>Mystery</th>\n",
       "      <th>Romance</th>\n",
       "      <th>Sci-Fi</th>\n",
       "      <th>Thriller</th>\n",
       "      <th>War</th>\n",
       "      <th>Western</th>\n",
       "    </tr>\n",
       "  </thead>\n",
       "  <tbody>\n",
       "    <tr>\n",
       "      <th>0</th>\n",
       "      <td>1</td>\n",
       "      <td>Toy</td>\n",
       "      <td>2</td>\n",
       "      <td>3.5</td>\n",
       "      <td>1141415820</td>\n",
       "      <td>1995.0</td>\n",
       "      <td>0</td>\n",
       "      <td>1</td>\n",
       "      <td>1</td>\n",
       "      <td>1</td>\n",
       "      <td>1</td>\n",
       "      <td>0</td>\n",
       "      <td>0</td>\n",
       "      <td>0</td>\n",
       "      <td>1</td>\n",
       "      <td>0</td>\n",
       "      <td>0</td>\n",
       "      <td>0</td>\n",
       "      <td>0</td>\n",
       "      <td>0</td>\n",
       "      <td>0</td>\n",
       "      <td>0</td>\n",
       "      <td>0</td>\n",
       "      <td>0</td>\n",
       "      <td>0</td>\n",
       "    </tr>\n",
       "    <tr>\n",
       "      <th>1</th>\n",
       "      <td>1</td>\n",
       "      <td>Toy</td>\n",
       "      <td>3</td>\n",
       "      <td>4.0</td>\n",
       "      <td>1439472215</td>\n",
       "      <td>1995.0</td>\n",
       "      <td>0</td>\n",
       "      <td>1</td>\n",
       "      <td>1</td>\n",
       "      <td>1</td>\n",
       "      <td>1</td>\n",
       "      <td>0</td>\n",
       "      <td>0</td>\n",
       "      <td>0</td>\n",
       "      <td>1</td>\n",
       "      <td>0</td>\n",
       "      <td>0</td>\n",
       "      <td>0</td>\n",
       "      <td>0</td>\n",
       "      <td>0</td>\n",
       "      <td>0</td>\n",
       "      <td>0</td>\n",
       "      <td>0</td>\n",
       "      <td>0</td>\n",
       "      <td>0</td>\n",
       "    </tr>\n",
       "    <tr>\n",
       "      <th>2</th>\n",
       "      <td>1</td>\n",
       "      <td>Toy</td>\n",
       "      <td>4</td>\n",
       "      <td>3.0</td>\n",
       "      <td>1573944252</td>\n",
       "      <td>1995.0</td>\n",
       "      <td>0</td>\n",
       "      <td>1</td>\n",
       "      <td>1</td>\n",
       "      <td>1</td>\n",
       "      <td>1</td>\n",
       "      <td>0</td>\n",
       "      <td>0</td>\n",
       "      <td>0</td>\n",
       "      <td>1</td>\n",
       "      <td>0</td>\n",
       "      <td>0</td>\n",
       "      <td>0</td>\n",
       "      <td>0</td>\n",
       "      <td>0</td>\n",
       "      <td>0</td>\n",
       "      <td>0</td>\n",
       "      <td>0</td>\n",
       "      <td>0</td>\n",
       "      <td>0</td>\n",
       "    </tr>\n",
       "    <tr>\n",
       "      <th>3</th>\n",
       "      <td>1</td>\n",
       "      <td>Toy</td>\n",
       "      <td>5</td>\n",
       "      <td>4.0</td>\n",
       "      <td>858625949</td>\n",
       "      <td>1995.0</td>\n",
       "      <td>0</td>\n",
       "      <td>1</td>\n",
       "      <td>1</td>\n",
       "      <td>1</td>\n",
       "      <td>1</td>\n",
       "      <td>0</td>\n",
       "      <td>0</td>\n",
       "      <td>0</td>\n",
       "      <td>1</td>\n",
       "      <td>0</td>\n",
       "      <td>0</td>\n",
       "      <td>0</td>\n",
       "      <td>0</td>\n",
       "      <td>0</td>\n",
       "      <td>0</td>\n",
       "      <td>0</td>\n",
       "      <td>0</td>\n",
       "      <td>0</td>\n",
       "      <td>0</td>\n",
       "    </tr>\n",
       "    <tr>\n",
       "      <th>4</th>\n",
       "      <td>1</td>\n",
       "      <td>Toy</td>\n",
       "      <td>8</td>\n",
       "      <td>4.0</td>\n",
       "      <td>890492517</td>\n",
       "      <td>1995.0</td>\n",
       "      <td>0</td>\n",
       "      <td>1</td>\n",
       "      <td>1</td>\n",
       "      <td>1</td>\n",
       "      <td>1</td>\n",
       "      <td>0</td>\n",
       "      <td>0</td>\n",
       "      <td>0</td>\n",
       "      <td>1</td>\n",
       "      <td>0</td>\n",
       "      <td>0</td>\n",
       "      <td>0</td>\n",
       "      <td>0</td>\n",
       "      <td>0</td>\n",
       "      <td>0</td>\n",
       "      <td>0</td>\n",
       "      <td>0</td>\n",
       "      <td>0</td>\n",
       "      <td>0</td>\n",
       "    </tr>\n",
       "  </tbody>\n",
       "</table>\n",
       "</div>"
      ],
      "text/plain": [
       "   movieId title  userId  rating   timestamp    year  Action  Adventure  \\\n",
       "0        1   Toy       2     3.5  1141415820  1995.0       0          1   \n",
       "1        1   Toy       3     4.0  1439472215  1995.0       0          1   \n",
       "2        1   Toy       4     3.0  1573944252  1995.0       0          1   \n",
       "3        1   Toy       5     4.0   858625949  1995.0       0          1   \n",
       "4        1   Toy       8     4.0   890492517  1995.0       0          1   \n",
       "\n",
       "   Animation  Children  Comedy  Crime  Documentary  Drama  Fantasy  Film-Noir  \\\n",
       "0          1         1       1      0            0      0        1          0   \n",
       "1          1         1       1      0            0      0        1          0   \n",
       "2          1         1       1      0            0      0        1          0   \n",
       "3          1         1       1      0            0      0        1          0   \n",
       "4          1         1       1      0            0      0        1          0   \n",
       "\n",
       "   Horror  IMAX  Musical  Mystery  Romance  Sci-Fi  Thriller  War  Western  \n",
       "0       0     0        0        0        0       0         0    0        0  \n",
       "1       0     0        0        0        0       0         0    0        0  \n",
       "2       0     0        0        0        0       0         0    0        0  \n",
       "3       0     0        0        0        0       0         0    0        0  \n",
       "4       0     0        0        0        0       0         0    0        0  "
      ]
     },
     "execution_count": 18,
     "metadata": {},
     "output_type": "execute_result"
    }
   ],
   "source": [
    "onehot_genres.head()\n"
   ]
  },
  {
   "cell_type": "markdown",
   "metadata": {},
   "source": [
    "* #### __Movie Ratings Histogram:__"
   ]
  },
  {
   "cell_type": "markdown",
   "metadata": {},
   "source": [
    "In order to visualize a histogram of the movie ratings we need to turn to a dataframe the unique genres and represent the dataframe that contains the genres in oneHot encoding format. This dataset is _onehot_genres_ calculated earlier."
   ]
  },
  {
   "cell_type": "code",
   "execution_count": 23,
   "metadata": {},
   "outputs": [],
   "source": [
    "# Unique genres:\n",
    "\n",
    "unique_genres = pd.DataFrame(data_movies2.genres.str.split('|').tolist()).stack().unique()\n",
    "unique_genres = pd.DataFrame(unique_genres, columns=['genres'])"
   ]
  },
  {
   "cell_type": "code",
   "execution_count": 24,
   "metadata": {},
   "outputs": [
    {
     "data": {
      "image/png": "[encoded data removed]",
      "text/plain": [
       "<Figure size 720x504 with 1 Axes>"
      ]
     },
     "metadata": {
      "needs_background": "light"
     },
     "output_type": "display_data"
    }
   ],
   "source": [
    "df0 = onehot_genres[['movieId','rating']].groupby('movieId').mean() # We calculate the mean of the coded genres \n",
    "                                                                    # and we group them by movieId.\n",
    "df0.hist(bins=25, grid=False, edgecolor='w',label ='All genres', figsize=(10, 7))\n",
    "\n",
    "for genres in unique_genres.genres:\n",
    "    df0 = onehot_genres[onehot_genres[genres]==1] # We take the genres that are 1 \n",
    "    df0 = df0[['movieId','rating']].groupby('movieId').mean() # We proceed to do the same as earlier but with \n",
    "                                                              # just the genres thata are = 1\n",
    "    df0.rating.plot(grid=False,  kind='kde', label=genres) # We do the plot\n",
    "    \n",
    "plt.legend(loc=(1.05,0), ncol=2)\n",
    "plt.xlim(0,5)\n",
    "plt.xlabel('Movie rating')\n",
    "plt.title('Movie rating histograms')\n",
    "plt.show()"
   ]
  },
  {
   "cell_type": "markdown",
   "metadata": {},
   "source": [
    "Since _IMAX_ is not a genre, but a visualization platform, we are going to delete it."
   ]
  },
  {
   "cell_type": "code",
   "execution_count": 25,
   "metadata": {},
   "outputs": [],
   "source": [
    "onehot_genres.drop('IMAX',axis=1,inplace=True)"
   ]
  }
 ],
 "metadata": {
  "kernelspec": {
   "display_name": "movie_env",
   "language": "python",
   "name": "movie_env"
  },
  "language_info": {
   "codemirror_mode": {
    "name": "ipython",
    "version": 3
   },
   "file_extension": ".py",
   "mimetype": "text/x-python",
   "name": "python",
   "nbconvert_exporter": "python",
   "pygments_lexer": "ipython3",
   "version": "3.8.5"
  }
 },
 "nbformat": 4,
 "nbformat_minor": 4
}
