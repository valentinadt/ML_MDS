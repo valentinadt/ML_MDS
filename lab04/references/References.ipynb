{
 "cells": [
  {
   "cell_type": "markdown",
   "metadata": {},
   "source": [
    "* Authors: Andrea Jiménez Zuñiga, Valentina Díaz Torres e Isabel Afán de Ribera Olaso\n",
    "* Date: 15/01/2020\n",
    "* Institution: CUNEF"
   ]
  },
  {
   "cell_type": "markdown",
   "metadata": {},
   "source": [
    "# References"
   ]
  },
  {
   "cell_type": "markdown",
   "metadata": {},
   "source": [
    "* Analytics Vidhya (2018) Comprehensive Guide to build a Recommendation Engine from scratch (in Python) available at https://www.analyticsvidhya.com/blog/2018/06/comprehensive-guide-recommendation-engine-python/\n",
    "\n",
    "* Graph Everywhere. Sistemas de recomendación: Qué son, tipos y ejemplos available at: https://www.grapheverywhere.com/sistemas-de-recomendacion-que-son-tipos-y-ejemplos/#:~:text=Un%20sistema%20de%20recomendaci%C3%B3n%20es,o%20valor%20para%20el%20usuario\n",
    "\n",
    "* GitHub Recommendation-Systems available at: https://github.com/Riteshchawla10/Recommendation-Systems/blob/master/Recommendation_Assig.ipynb\n",
    "\n",
    "* GitHub available at: https://github.com/khanhnamle1994/movielens\n",
    "\n",
    "* Medium (2019) Guía para construir un sistema de recomendación available at:  https://medium.com/jaywrkr-tech/gu%C3%ADa-para-construir-un-sistema-de-recomendaci%C3%B3n-parte-1-2b1a65d6eac3\n",
    "\n",
    "* Medium (2020) Recommendation System for Movies — MovieLens | Grouplens available at: https://medium.com/swlh/recommendation-system-for-movies-movielens-grouplens-171d30be334e\n",
    "\n",
    "* Stat Developer (2020) Recomendaciones basado en filtrado colaborativo en Python available at: https://www.statdeveloper.com/recomendaciones-basado-en-filtrado-colaborativo-en-python/\n",
    "\n",
    "* Towards Data Science (2019) Introduction to recommender systems available at: https://towardsdatascience.com/introduction-to-recommender-systems-6c66cf15ada"
   ]
  }
 ],
 "metadata": {
  "kernelspec": {
   "display_name": "Python 3",
   "language": "python",
   "name": "python3"
  },
  "language_info": {
   "codemirror_mode": {
    "name": "ipython",
    "version": 3
   },
   "file_extension": ".py",
   "mimetype": "text/x-python",
   "name": "python",
   "nbconvert_exporter": "python",
   "pygments_lexer": "ipython3",
   "version": "3.8.3"
  }
 },
 "nbformat": 4,
 "nbformat_minor": 4
}
